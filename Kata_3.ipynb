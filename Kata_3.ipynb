{
 "cells": [
  {
   "cell_type": "code",
   "execution_count": 24,
   "metadata": {},
   "outputs": [
    {
     "name": "stdout",
     "output_type": "stream",
     "text": [
      "\t***ADVERTENCIA***\n",
      "Estamos cerca de nuestra extinción\n"
     ]
    }
   ],
   "source": [
    "asteroide = 49\n",
    "if asteroide > 25:\n",
    "    print(\"\\t***ADVERTENCIA***\\nEstamos cerca de nuestra extinción\")\n",
    "else:\n",
    "    print(\"La posición del cosmos ha decidido que sigas trabajando\")"
   ]
  },
  {
   "cell_type": "code",
   "execution_count": 29,
   "metadata": {},
   "outputs": [
    {
     "name": "stdout",
     "output_type": "stream",
     "text": [
      "No hay nada por aquí\n"
     ]
    }
   ],
   "source": [
    "asteroide = 19\n",
    "if asteroide > 20:\n",
    "    print(\"\\t**ATENCIÓN**\\n Miren al cielo y no vayan hacia la luz\")\n",
    "elif asteroide == 20:\n",
    "    print(\"Miren hacia el cielo, un gran espectaculo!\")\n",
    "else:\n",
    "    print(\"No hay nada por aquí\")\n"
   ]
  },
  {
   "cell_type": "code",
   "execution_count": 30,
   "metadata": {},
   "outputs": [
    {
     "name": "stdout",
     "output_type": "stream",
     "text": [
      "Miren hacia el cielo, un gran espectaculo!\n"
     ]
    }
   ],
   "source": [
    "velocidad_asteroide = 25\n",
    "tamaño_asteroide = 37\n",
    "if tamaño_asteroide > 25 and velocidad_asteroide > 25:\n",
    "    print (\"\\t\\t\\t***ALERTA*** \\n Guarden la calma y disfruten posiblemente sus ultimos minutos\")\n",
    "elif velocidad_asteroide >= 20:\n",
    "    print (\"Miren hacia el cielo, un gran espectaculo!\")\n",
    "elif tamaño_asteroide < 25:\n",
    "    print (\"No hay nada por aqui\")\n",
    "else:\n",
    "    print (\"No hay nada por aqui\")"
   ]
  }
 ],
 "metadata": {
  "interpreter": {
   "hash": "2047cdced8e850719dcb991e4265b235990fbe801ff9a7f3f82182b67308ec1b"
  },
  "kernelspec": {
   "display_name": "Python 3.10.2 64-bit (windows store)",
   "language": "python",
   "name": "python3"
  },
  "language_info": {
   "codemirror_mode": {
    "name": "ipython",
    "version": 3
   },
   "file_extension": ".py",
   "mimetype": "text/x-python",
   "name": "python",
   "nbconvert_exporter": "python",
   "pygments_lexer": "ipython3",
   "version": "3.10.2"
  },
  "orig_nbformat": 4
 },
 "nbformat": 4,
 "nbformat_minor": 2
}
